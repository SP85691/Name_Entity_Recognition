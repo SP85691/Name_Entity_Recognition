{
 "cells": [
  {
   "cell_type": "code",
   "execution_count": 1,
   "metadata": {},
   "outputs": [
    {
     "name": "stderr",
     "output_type": "stream",
     "text": [
      "UsageError: Cell magic `%%matplotlib.inline` not found.\n"
     ]
    }
   ],
   "source": [
    "%%matplotlib.inline\n",
    "import pandas as pd\n",
    "import numpy as np\n",
    "import matplotlib.pyplot as plt\n",
    "import spacy\n",
    "from spacy.training import Example\n",
    "from sklearn.model_selection import train_test_split\n",
    "from sklearn.metrics import classification_report"
   ]
  },
  {
   "cell_type": "code",
   "execution_count": null,
   "metadata": {},
   "outputs": [],
   "source": [
    "class NERModelTrainer:\n",
    "    def __init__(self, file_path):\n",
    "        self.file_path = file_path\n",
    "        self.nlp = spacy.blank(\"en\")\n",
    "        self.ner = self.nlp.add_pipe(\"ner\")\n",
    "    \n",
    "    def read_csv(self):\n",
    "        \"\"\"Read CSV file into a DataFrame.\"\"\"\n",
    "        self.df = pd.read_csv(self.file_path)\n",
    "    \n",
    "    def preprocess_data(self):\n",
    "        \"\"\"Preprocess data as needed.\"\"\"\n",
    "        # Handle missing values, remove unnecessary columns, etc.\n",
    "        # Example:\n",
    "        self.df.dropna(inplace=True)\n",
    "    \n",
    "    def label_data(self):\n",
    "        \"\"\"Manually label a small portion of the data.\"\"\"\n",
    "        # Labeling data can be done manually or using external tools\n",
    "    \n",
    "    def prepare_training_data(self):\n",
    "        \"\"\"Convert labeled data into training data format.\"\"\"\n",
    "        # Example:\n",
    "        self.TRAIN_DATA = [\n",
    "            (\"John Doe lives in New York.\", {\"entities\": [(0, 8, \"PERSON\"), (19, 28, \"LOCATION\")]}),\n",
    "            # Add more labeled examples...\n",
    "        ]\n",
    "    \n",
    "    def train_model(self):\n",
    "        \"\"\"Train the NER model.\"\"\"\n",
    "        optimizer = self.nlp.begin_training()\n",
    "        for itn in range(10):\n",
    "            losses = {}\n",
    "            for text, annotations in self.TRAIN_DATA:\n",
    "                doc = self.nlp.make_doc(text)\n",
    "                example = Example.from_dict(doc, annotations)\n",
    "                self.nlp.update([example], losses=losses, drop=0.5)\n",
    "            print(\"Iteration:\", itn, \"Losses:\", losses)\n",
    "    \n",
    "    def evaluate_model(self):\n",
    "        \"\"\"Evaluate the performance of the trained NER model.\"\"\"\n",
    "        # Split data into training and testing sets\n",
    "        X_train, X_test = train_test_split(self.df['Text'], test_size=0.2, random_state=42)\n",
    "        \n",
    "        # Evaluate model on testing data\n",
    "        for text in X_test:\n",
    "            doc = self.nlp(text)\n",
    "            print(\"Entities:\", [(ent.text, ent.label_) for ent in doc.ents])\n",
    "        \n",
    "        # Calculate classification report\n",
    "        y_true = [str(doc.ents) for doc in X_test]\n",
    "        y_pred = [str(self.nlp(text).ents) for text in X_test]\n",
    "        print(\"Classification Report:\")\n",
    "        print(classification_report(y_true, y_pred))\n",
    "    \n",
    "    def fine_tune_model(self):\n",
    "        \"\"\"Fine-tune the NER model and adjust hyperparameters.\"\"\"\n",
    "        # Example:\n",
    "        self.nlp.begin_training()\n",
    "        # Adjust hyperparameters and continue training\n",
    "    \n",
    "    def deploy_model(self):\n",
    "        \"\"\"Deploy the trained NER model.\"\"\"\n",
    "        # Save the trained model for later use"
   ]
  }
 ],
 "metadata": {
  "kernelspec": {
   "display_name": "venv",
   "language": "python",
   "name": "python3"
  },
  "language_info": {
   "codemirror_mode": {
    "name": "ipython",
    "version": 3
   },
   "file_extension": ".py",
   "mimetype": "text/x-python",
   "name": "python",
   "nbconvert_exporter": "python",
   "pygments_lexer": "ipython3",
   "version": "3.11.0"
  }
 },
 "nbformat": 4,
 "nbformat_minor": 2
}
